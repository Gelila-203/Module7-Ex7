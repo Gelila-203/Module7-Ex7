{
 "cells": [
  {
   "cell_type": "markdown",
   "metadata": {},
   "source": [
    "### Exercise 1\n",
    "Ask a user to enter a number. If the number is positive, print <b>Positive number</b>. Otherwise, do not print any message. Finally, print 'goodbye' message at the end."
   ]
  },
  {
   "cell_type": "code",
   "execution_count": 9,
   "metadata": {},
   "outputs": [
    {
     "name": "stdout",
     "output_type": "stream",
     "text": [
      "Enter the number : 2\n",
      "positive number\n",
      "goodbye\n"
     ]
    }
   ],
   "source": [
    "numb=int(input(\"Enter the number : \"))\n",
    "if numb >= 0  :\n",
    "         print(\"positive number\")\n",
    "print(\"goodbye\")"
   ]
  },
  {
   "cell_type": "markdown",
   "metadata": {},
   "source": [
    "### Exercise 2\n",
    "Ask for a code and store that answer. \n",
    "If the answer is grey then print out if you found secret code.\n",
    "Otherwise print out the code is not the secret code."
   ]
  },
  {
   "cell_type": "code",
   "execution_count": 14,
   "metadata": {},
   "outputs": [
    {
     "name": "stdout",
     "output_type": "stream",
     "text": [
      "Enter the code : 45\n"
     ]
    }
   ],
   "source": [
    "code=input(\"Enter the code : \")\n",
    "secret_code=\"grey\""
   ]
  },
  {
   "cell_type": "code",
   "execution_count": 15,
   "metadata": {},
   "outputs": [
    {
     "name": "stdout",
     "output_type": "stream",
     "text": [
      "code is not the secrete code.\n"
     ]
    }
   ],
   "source": [
    "if code == secret_code :\n",
    "    print(\"you found secrete code.\")\n",
    "else :\n",
    "    print(\"code is not the secrete code.\")"
   ]
  },
  {
   "cell_type": "markdown",
   "metadata": {},
   "source": [
    "### Exercise 3\n",
    "\n",
    "Ask a user to enter a phrase. If the word contains a number, display the \"Number found\" message. Otherwise, show the \"Number not found\" message. "
   ]
  },
  {
   "cell_type": "code",
   "execution_count": 25,
   "metadata": {},
   "outputs": [
    {
     "name": "stdout",
     "output_type": "stream",
     "text": [
      "Enter a phrase : 568huu\n"
     ]
    }
   ],
   "source": [
    "phrase=input(\"Enter a phrase : \")\n"
   ]
  },
  {
   "cell_type": "code",
   "execution_count": 26,
   "metadata": {},
   "outputs": [
    {
     "name": "stdout",
     "output_type": "stream",
     "text": [
      "Number found\n"
     ]
    }
   ],
   "source": [
    "if  \"0\" in phrase or  \"1\" in phrase or  \"2\" in phrase or  \"3\" in phrase or  \"4\" in phrase or \"5\" in phrase or \"6\" in phrase or \"7\" in phrase or \"8\" in phrase or \"9\" in phrase  :  \n",
    "    print(\"Number found\")\n",
    "else :\n",
    "    print(\"Number not found\")\n"
   ]
  },
  {
   "cell_type": "markdown",
   "metadata": {},
   "source": [
    "### Exercise 4\n",
    "\n",
    "Ask a user to enter a number. Then, only if the number is divisible by 2 and 3, show the result of the number divided by two and three in a formated string. The output should look something like this:\n",
    "        \n",
    "    Enter a number: 2\n",
    "    Bye    \n",
    "    \n",
    "    Enter a number: 60\n",
    "    60 / 2 = 30.0\n",
    "    60 / 3 = 20.0\n",
    "    Bye\n",
    "    \n",
    "    Enter a number: 3\n",
    "    Bye\n",
    "    \n",
    "    Enter a number: 10\n",
    "    Bye    "
   ]
  },
  {
   "cell_type": "code",
   "execution_count": 31,
   "metadata": {},
   "outputs": [
    {
     "name": "stdout",
     "output_type": "stream",
     "text": [
      "Enter the number6\n",
      "6/2, is 3.0\n",
      "6/3, is 2.0\n",
      "Bye\n"
     ]
    }
   ],
   "source": [
    "numb= int(input(\"Enter the number\"))\n",
    "if numb%2 ==0 and numb%3==0 :\n",
    "    div1=numb/2\n",
    "    div2=numb/3\n",
    "    print(f\"{numb}/2, is {div1}\" )\n",
    "    print(f\"{numb}/3, is {div2}\")\n",
    "    \n",
    "\n",
    "print(\"Bye\")\n",
    "\n"
   ]
  },
  {
   "cell_type": "code",
   "execution_count": null,
   "metadata": {},
   "outputs": [],
   "source": []
  },
  {
   "cell_type": "markdown",
   "metadata": {},
   "source": [
    "### Exercise 5\n",
    "Ask a user to enter a number. Determine if the number is zero, positive or negative. Use only <b>if</b> and <b>else</b> statements. \n",
    "    "
   ]
  },
  {
   "cell_type": "code",
   "execution_count": 35,
   "metadata": {},
   "outputs": [
    {
     "name": "stdout",
     "output_type": "stream",
     "text": [
      "Enter a number-9\n",
      "Number is positive\n"
     ]
    }
   ],
   "source": [
    "numb=int(input(\"Enter a number\"))\n",
    "if numb==0 :\n",
    "    print(\"Number is zero\")\n",
    "elif numb < 0 :\n",
    "    print(\"Number is negative\")\n",
    "else :\n",
    "    print(\"Number is positive\")\n",
    "\n",
    "    "
   ]
  },
  {
   "cell_type": "code",
   "execution_count": null,
   "metadata": {},
   "outputs": [],
   "source": []
  }
 ],
 "metadata": {
  "kernelspec": {
   "display_name": "Python 3 (ipykernel)",
   "language": "python",
   "name": "python3"
  },
  "language_info": {
   "codemirror_mode": {
    "name": "ipython",
    "version": 3
   },
   "file_extension": ".py",
   "mimetype": "text/x-python",
   "name": "python",
   "nbconvert_exporter": "python",
   "pygments_lexer": "ipython3",
   "version": "3.9.12"
  }
 },
 "nbformat": 4,
 "nbformat_minor": 4
}
